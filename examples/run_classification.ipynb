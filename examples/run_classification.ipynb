{
 "cells": [
  {
   "attachments": {},
   "cell_type": "markdown",
   "metadata": {},
   "source": [
    "# A dead simple demo of zeroshot\n",
    "This demo reads an image from a URL, and runs a zeroshot model on it."
   ]
  },
  {
   "cell_type": "code",
   "execution_count": null,
   "metadata": {},
   "outputs": [],
   "source": [
    "# Install dependencies.\n",
    "!pip install zeroshot\n",
    "\n",
    "# The URL of our dog:\n",
    "dog_url = \"https://raw.githubusercontent.com/srirammanikumar/DogBreedClassifier/master/images/Labrador_retriever_06457.jpg\""
   ]
  },
  {
   "attachments": {},
   "cell_type": "markdown",
   "metadata": {},
   "source": [
    "# Visualize the inputs\n",
    "\n",
    "We'll use an existing model trained to distinguish dog, cat, human, and a lizard. Here is our input image:\n",
    "\n",
    "![image.png](https://raw.githubusercontent.com/srirammanikumar/DogBreedClassifier/master/images/Labrador_retriever_06457.jpg)\n"
   ]
  },
  {
   "attachments": {},
   "cell_type": "markdown",
   "metadata": {},
   "source": [
    "## Run the model\n",
    "Next, just run the model! You'll need to go build a model at usezeroshot.com, and you can either download the file or just point at the GUID we provide. Here we'll just use an existing model that classifies a few existing objects."
   ]
  },
  {
   "cell_type": "code",
   "execution_count": null,
   "metadata": {},
   "outputs": [],
   "source": [
    "import zeroshot\n",
    "\n",
    "# Create the classifier with the model we've created on usezeroshot.com\n",
    "# Use your own model ID here.\n",
    "model = zeroshot.Classifier(\"5521f7da-5073-45e5-8750-b584c48a604e\")\n",
    "\n",
    "# Run the model! The result is the index of the prediction.\n",
    "result = model.predict(dog_url)\n",
    "class_name = model.classes[result]\n",
    "print(f'The image is class \"{class_name}\"')"
   ]
  },
  {
   "attachments": {},
   "cell_type": "markdown",
   "metadata": {},
   "source": [
    "## Advanced: Show probabilities of the model\n",
    "At the most basic, the model will return the most likely class. However, we can ask for probabilities to instead see how confident the model is on the various classes."
   ]
  },
  {
   "cell_type": "code",
   "execution_count": null,
   "metadata": {},
   "outputs": [],
   "source": [
    "import zeroshot\n",
    "\n",
    "# You can pull out the pre-processing function. This is useful in case your\n",
    "# images are already in a ImageNet standardized format or something similar.\n",
    "preprocess_fn = zeroshot.create_preprocess_fn()\n",
    "\n",
    "# Create the classifier and preprocessing function.\n",
    "# Use your own model ID here.\n",
    "classifier = zeroshot.Classifier(\n",
    "    \"5521f7da-5073-45e5-8750-b584c48a604e\", preprocessor=None\n",
    ")\n",
    "\n",
    "# Get predictions.\n",
    "image = zeroshot.numpy_from_url(dog_url)\n",
    "prediction = classifier.predict_proba(preprocess_fn(image))\n",
    "classes = classifier.classes\n",
    "\n",
    "print(\"Probabilities:\")\n",
    "for pred, cls in zip(prediction, classes):\n",
    "    print(f\"\\t{cls}: {pred:.2%}\")"
   ]
  }
 ],
 "metadata": {
  "kernelspec": {
   "display_name": "Python 3 (ipykernel)",
   "language": "python",
   "name": "python3"
  },
  "language_info": {
   "name": "python"
  }
 },
 "nbformat": 4,
 "nbformat_minor": 2
}
